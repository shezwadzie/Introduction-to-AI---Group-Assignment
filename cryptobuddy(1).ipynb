{
 "cells": [
  {
   "cell_type": "code",
   "execution_count": null,
   "id": "5981f263",
   "metadata": {},
   "outputs": [
    {
     "name": "stdout",
     "output_type": "stream",
     "text": [
      "Hey! I’m CryptoBuddy – your friendly crypto guide \n",
      "Ask me about crypto trends or sustainability!\n",
      "\n"
     ]
    }
   ],
   "source": [
    "# Step 1: Define CryptoBuddy's Personality\n",
    "print(\"Hey! I’m CryptoBuddy – your friendly crypto guide \\nAsk me about crypto trends or sustainability!\\r\\n\")\n",
    "\n",
    "#step4:Add Advice Rules\n",
    "crypto_db = {  \n",
    "    \"Bitcoin\": {  \n",
    "        \"price_trend\": \"rising\",  \n",
    "        \"market_cap\": \"high\",  \n",
    "        \"energy_use\": \"high\",  \n",
    "        \"sustainability_score\": 3/10  \n",
    "    },  \n",
    "    \"Ethereum\": {  \n",
    "        \"price_trend\": \"stable\",  \n",
    "        \"market_cap\": \"high\",  \n",
    "        \"energy_use\": \"medium\",  \n",
    "        \"sustainability_score\": 6/10  \n",
    "    },  \n",
    "    \"Cardano\": {  \n",
    "        \"price_trend\": \"rising\",  \n",
    "        \"market_cap\": \"medium\",  \n",
    "        \"energy_use\": \"low\",  \n",
    "        \"sustainability_score\": 8/10  \n",
    "    }  \n",
    "}\n",
    "\n",
    "def recommend_crypto(user_query):\n",
    "    user_query = user_query.lower()\n",
    "    if \"sustainable\" in user_query:\n",
    "        # Recommend the most sustainable coin\n",
    "        recommend = max(crypto_db, key=lambda x: crypto_db[x][\"sustainability_score\"])\n",
    "        return f\"Invest in {recommend}! 🌱 It’s eco-friendly and has long-term potential!\"\n",
    "    elif \"profitable\" in user_query or \"growth\" in user_query or \"trending\" in user_query:\n",
    "        # Recommend the most profitable coin (rising trend & high market cap)\n",
    "        candidates = [name for name, data in crypto_db.items()\n",
    "                      if data[\"price_trend\"] == \"rising\" and data[\"market_cap\"] == \"high\"]\n",
    "        if candidates:\n",
    "            return f\"{candidates[0]} is trending up and has a high market cap! 🚀\"\n",
    "        else:\n",
    "            return \"No crypto matches the profitability criteria right now.\"\n",
    "    elif \"energy\" in user_query or \"eco\" in user_query:\n",
    "        # Recommend coins with low energy use and high sustainability\n",
    "        candidates = [name for name, data in crypto_db.items()\n",
    "                      if data[\"energy_use\"] == \"low\" and data[\"sustainability_score\"] > 0.7]\n",
    "        if candidates:\n",
    "            return f\"{candidates[0]} uses low energy and is highly sustainable! 🌱\"\n",
    "        else:\n",
    "            return \"No crypto matches the sustainability criteria right now.\"\n",
    "    else:\n",
    "        return \"Sorry, I can only advise on profitability and sustainability. Try asking about trending or sustainable coins!\"\n",
    "\n",
    "\n"
   ]
  }
 ],
 "metadata": {
  "kernelspec": {
   "display_name": "Python 3",
   "language": "python",
   "name": "python3"
  },
  "language_info": {
   "codemirror_mode": {
    "name": "ipython",
    "version": 3
   },
   "file_extension": ".py",
   "mimetype": "text/x-python",
   "name": "python",
   "nbconvert_exporter": "python",
   "pygments_lexer": "ipython3",
   "version": "3.13.3"
  }
 },
 "nbformat": 4,
 "nbformat_minor": 5
}
